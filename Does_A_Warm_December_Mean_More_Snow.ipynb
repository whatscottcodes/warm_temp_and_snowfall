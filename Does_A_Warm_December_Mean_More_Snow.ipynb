{
 "cells": [
  {
   "cell_type": "code",
   "execution_count": 1,
   "metadata": {},
   "outputs": [],
   "source": [
    "import pandas as pd\n",
    "import random\n",
    "import numpy as np\n",
    "import matplotlib.pyplot as plt\n",
    "from collections import defaultdict\n",
    "from scipy import stats\n",
    "from bokeh.io import output_notebook, show, curdoc, save\n",
    "from bokeh.plotting import figure, reset_output\n",
    "from bokeh.layouts import gridplot, column, row\n",
    "from bokeh.models import (\n",
    "    ColumnDataSource,\n",
    "    ColorBar,\n",
    "    LinearColorMapper,\n",
    "    LogColorMapper, HoverTool, \n",
    "    ResetTool, ResizeTool, WheelZoomTool, LabelSet, Div\n",
    ")\n",
    "from bokeh.palettes import Plasma256, Category20c\n",
    "from bokeh.embed import file_html\n",
    "from bokeh.resources import CDN\n",
    "from bokeh.embed import components"
   ]
  },
  {
   "cell_type": "code",
   "execution_count": 2,
   "metadata": {},
   "outputs": [
    {
     "data": {
      "text/html": [
       "\n",
       "    <div class=\"bk-root\">\n",
       "        <a href=\"http://bokeh.pydata.org\" target=\"_blank\" class=\"bk-logo bk-logo-small bk-logo-notebook\"></a>\n",
       "        <span id=\"d03e4abf-e09f-437d-9a37-3787c4c292ae\">Loading BokehJS ...</span>\n",
       "    </div>"
      ]
     },
     "metadata": {},
     "output_type": "display_data"
    },
    {
     "data": {
      "application/javascript": [
       "\n",
       "(function(global) {\n",
       "  function now() {\n",
       "    return new Date();\n",
       "  }\n",
       "\n",
       "  var force = true;\n",
       "\n",
       "  if (typeof (window._bokeh_onload_callbacks) === \"undefined\" || force === true) {\n",
       "    window._bokeh_onload_callbacks = [];\n",
       "    window._bokeh_is_loading = undefined;\n",
       "  }\n",
       "\n",
       "\n",
       "  \n",
       "  if (typeof (window._bokeh_timeout) === \"undefined\" || force === true) {\n",
       "    window._bokeh_timeout = Date.now() + 5000;\n",
       "    window._bokeh_failed_load = false;\n",
       "  }\n",
       "\n",
       "  var NB_LOAD_WARNING = {'data': {'text/html':\n",
       "     \"<div style='background-color: #fdd'>\\n\"+\n",
       "     \"<p>\\n\"+\n",
       "     \"BokehJS does not appear to have successfully loaded. If loading BokehJS from CDN, this \\n\"+\n",
       "     \"may be due to a slow or bad network connection. Possible fixes:\\n\"+\n",
       "     \"</p>\\n\"+\n",
       "     \"<ul>\\n\"+\n",
       "     \"<li>re-rerun `output_notebook()` to attempt to load from CDN again, or</li>\\n\"+\n",
       "     \"<li>use INLINE resources instead, as so:</li>\\n\"+\n",
       "     \"</ul>\\n\"+\n",
       "     \"<code>\\n\"+\n",
       "     \"from bokeh.resources import INLINE\\n\"+\n",
       "     \"output_notebook(resources=INLINE)\\n\"+\n",
       "     \"</code>\\n\"+\n",
       "     \"</div>\"}};\n",
       "\n",
       "  function display_loaded() {\n",
       "    if (window.Bokeh !== undefined) {\n",
       "      var el = document.getElementById(\"d03e4abf-e09f-437d-9a37-3787c4c292ae\");\n",
       "      el.textContent = \"BokehJS \" + Bokeh.version + \" successfully loaded.\";\n",
       "    } else if (Date.now() < window._bokeh_timeout) {\n",
       "      setTimeout(display_loaded, 100)\n",
       "    }\n",
       "  }\n",
       "\n",
       "  function run_callbacks() {\n",
       "    window._bokeh_onload_callbacks.forEach(function(callback) { callback() });\n",
       "    delete window._bokeh_onload_callbacks\n",
       "    console.info(\"Bokeh: all callbacks have finished\");\n",
       "  }\n",
       "\n",
       "  function load_libs(js_urls, callback) {\n",
       "    window._bokeh_onload_callbacks.push(callback);\n",
       "    if (window._bokeh_is_loading > 0) {\n",
       "      console.log(\"Bokeh: BokehJS is being loaded, scheduling callback at\", now());\n",
       "      return null;\n",
       "    }\n",
       "    if (js_urls == null || js_urls.length === 0) {\n",
       "      run_callbacks();\n",
       "      return null;\n",
       "    }\n",
       "    console.log(\"Bokeh: BokehJS not loaded, scheduling load and callback at\", now());\n",
       "    window._bokeh_is_loading = js_urls.length;\n",
       "    for (var i = 0; i < js_urls.length; i++) {\n",
       "      var url = js_urls[i];\n",
       "      var s = document.createElement('script');\n",
       "      s.src = url;\n",
       "      s.async = false;\n",
       "      s.onreadystatechange = s.onload = function() {\n",
       "        window._bokeh_is_loading--;\n",
       "        if (window._bokeh_is_loading === 0) {\n",
       "          console.log(\"Bokeh: all BokehJS libraries loaded\");\n",
       "          run_callbacks()\n",
       "        }\n",
       "      };\n",
       "      s.onerror = function() {\n",
       "        console.warn(\"failed to load library \" + url);\n",
       "      };\n",
       "      console.log(\"Bokeh: injecting script tag for BokehJS library: \", url);\n",
       "      document.getElementsByTagName(\"head\")[0].appendChild(s);\n",
       "    }\n",
       "  };var element = document.getElementById(\"d03e4abf-e09f-437d-9a37-3787c4c292ae\");\n",
       "  if (element == null) {\n",
       "    console.log(\"Bokeh: ERROR: autoload.js configured with elementid 'd03e4abf-e09f-437d-9a37-3787c4c292ae' but no matching script tag was found. \")\n",
       "    return false;\n",
       "  }\n",
       "\n",
       "  var js_urls = [\"https://cdn.pydata.org/bokeh/release/bokeh-0.12.5.min.js\", \"https://cdn.pydata.org/bokeh/release/bokeh-widgets-0.12.5.min.js\"];\n",
       "\n",
       "  var inline_js = [\n",
       "    function(Bokeh) {\n",
       "      Bokeh.set_log_level(\"info\");\n",
       "    },\n",
       "    \n",
       "    function(Bokeh) {\n",
       "      \n",
       "    },\n",
       "    \n",
       "    function(Bokeh) {\n",
       "      \n",
       "      document.getElementById(\"d03e4abf-e09f-437d-9a37-3787c4c292ae\").textContent = \"BokehJS is loading...\";\n",
       "    },\n",
       "    function(Bokeh) {\n",
       "      console.log(\"Bokeh: injecting CSS: https://cdn.pydata.org/bokeh/release/bokeh-0.12.5.min.css\");\n",
       "      Bokeh.embed.inject_css(\"https://cdn.pydata.org/bokeh/release/bokeh-0.12.5.min.css\");\n",
       "      console.log(\"Bokeh: injecting CSS: https://cdn.pydata.org/bokeh/release/bokeh-widgets-0.12.5.min.css\");\n",
       "      Bokeh.embed.inject_css(\"https://cdn.pydata.org/bokeh/release/bokeh-widgets-0.12.5.min.css\");\n",
       "    }\n",
       "  ];\n",
       "\n",
       "  function run_inline_js() {\n",
       "    \n",
       "    if ((window.Bokeh !== undefined) || (force === true)) {\n",
       "      for (var i = 0; i < inline_js.length; i++) {\n",
       "        inline_js[i](window.Bokeh);\n",
       "      }if (force === true) {\n",
       "        display_loaded();\n",
       "      }} else if (Date.now() < window._bokeh_timeout) {\n",
       "      setTimeout(run_inline_js, 100);\n",
       "    } else if (!window._bokeh_failed_load) {\n",
       "      console.log(\"Bokeh: BokehJS failed to load within specified timeout.\");\n",
       "      window._bokeh_failed_load = true;\n",
       "    } else if (force !== true) {\n",
       "      var cell = $(document.getElementById(\"d03e4abf-e09f-437d-9a37-3787c4c292ae\")).parents('.cell').data().cell;\n",
       "      cell.output_area.append_execute_result(NB_LOAD_WARNING)\n",
       "    }\n",
       "\n",
       "  }\n",
       "\n",
       "  if (window._bokeh_is_loading === 0) {\n",
       "    console.log(\"Bokeh: BokehJS loaded, going straight to plotting\");\n",
       "    run_inline_js();\n",
       "  } else {\n",
       "    load_libs(js_urls, function() {\n",
       "      console.log(\"Bokeh: BokehJS plotting callback run at\", now());\n",
       "      run_inline_js();\n",
       "    });\n",
       "  }\n",
       "}(this));"
      ]
     },
     "metadata": {},
     "output_type": "display_data"
    }
   ],
   "source": [
    "output_notebook()"
   ]
  },
  {
   "cell_type": "markdown",
   "metadata": {},
   "source": [
    "# Does A Warm December Mean More Snow in the Winter?"
   ]
  },
  {
   "cell_type": "markdown",
   "metadata": {},
   "source": [
    "First, we are going to read in some csv files create with data from the NOWData section of the Applied Climate Information System (ACIS) from the National Weather Service."
   ]
  },
  {
   "cell_type": "code",
   "execution_count": 3,
   "metadata": {},
   "outputs": [
    {
     "name": "stdout",
     "output_type": "stream",
     "text": [
      "\u001b[0m\u001b[01;34mdays_of_snow\u001b[0m/  \u001b[01;34mhtml_charts\u001b[0m/  \u001b[01;34msnowfall\u001b[0m/  snow.ipynb  \u001b[01;34mtemps\u001b[0m/\r\n"
     ]
    }
   ],
   "source": [
    "ls"
   ]
  },
  {
   "cell_type": "code",
   "execution_count": 4,
   "metadata": {},
   "outputs": [],
   "source": [
    "boston_snow = pd.read_csv('snowfall/boston_snowfall_clean.csv', index_col = 0)\n",
    "hartford_snow = pd.read_csv('snowfall/hartford_snowfall_clean.csv', index_col = 0)\n",
    "milton_snow = pd.read_csv('snowfall/milton_snowfall_clean.csv', index_col = 0)\n",
    "pvd_snow = pd.read_csv('snowfall/pvd_snowfall_clean.csv', index_col = 0)\n",
    "worcester_snow = pd.read_csv('snowfall/worcester_snowfall_clean.csv', index_col = 0)"
   ]
  },
  {
   "cell_type": "code",
   "execution_count": 5,
   "metadata": {},
   "outputs": [],
   "source": [
    "boston_temp = pd.read_csv('temps/boston_temp.csv')\n",
    "hartford_temp = pd.read_csv('temps/hartford_temp.csv')\n",
    "milton_temp = pd.read_csv('temps/milton_temp.csv')\n",
    "pvd_temp = pd.read_csv('temps/pvd_temp.csv')\n",
    "worcester_temp = pd.read_csv('temps/worcester_temp.csv')"
   ]
  },
  {
   "cell_type": "code",
   "execution_count": 6,
   "metadata": {},
   "outputs": [],
   "source": [
    "boston_snow_days = pd.read_csv('days_of_snow/boston_days_of_snow_clean.csv', index_col = 0)\n",
    "hartford_snow_days = pd.read_csv('days_of_snow/hartford_days_of_snow_clean.csv', index_col = 0)\n",
    "milton_snow_days = pd.read_csv('days_of_snow/milton_days_of_snow_clean.csv', index_col = 0)\n",
    "pvd_snow_days = pd.read_csv('days_of_snow/pvd_days_of_snow_clean.csv', index_col = 0)\n",
    "worcester_snow_days = pd.read_csv('days_of_snow/worcester_days_of_snow_clean.csv', index_col = 0)"
   ]
  },
  {
   "cell_type": "markdown",
   "metadata": {},
   "source": [
    "The files are little messy with some values such as \"T\" for trace amounts and \"M\" for missing data. Columns with these types of data values are also not currently numeric, so we will convert them to make working with the data easier.\n",
    "\n",
    "The dataframes for the amount of snow and number of snowdays initials ran through a season instead of just through a year. It seemed easier to just work with the snow value as Jan-Dec yearly data, like the tempature data. I'm not sure this was really necessary, but it did make joining the dataframes together pretty straight forward. A python script was run to move the columns into the desired order and changing the year values could have been done in that script, but instead was done in the for loops below."
   ]
  },
  {
   "cell_type": "code",
   "execution_count": 7,
   "metadata": {},
   "outputs": [],
   "source": [
    "snow_files = [boston_snow, hartford_snow, milton_snow, pvd_snow, worcester_snow]\n",
    "temp_files = [boston_temp, hartford_temp, milton_temp, pvd_temp, worcester_temp]\n",
    "snow_day_files = [boston_snow_days, hartford_snow_days, milton_snow_days, pvd_snow_days, worcester_snow_days]"
   ]
  },
  {
   "cell_type": "code",
   "execution_count": 8,
   "metadata": {},
   "outputs": [],
   "source": [
    "for file in snow_files:\n",
    "    file[\"Year\"] = file[\"Year\"].apply(lambda text: text.split(\"-\")[1])\n",
    "    file.replace(to_replace = [\"T\", \"M\"], value=[0,np.nan], inplace = True)\n",
    "    for column in file.columns:\n",
    "        file[column] = pd.to_numeric(file[column])"
   ]
  },
  {
   "cell_type": "code",
   "execution_count": 9,
   "metadata": {},
   "outputs": [],
   "source": [
    "for file in temp_files:\n",
    "    file.replace(to_replace = [\"T\", \"M\"], value=[0,np.nan], inplace = True)\n",
    "    for column in file.columns:\n",
    "        file[column] = pd.to_numeric(file[column])"
   ]
  },
  {
   "cell_type": "code",
   "execution_count": 10,
   "metadata": {},
   "outputs": [],
   "source": [
    "for file in snow_day_files:\n",
    "    file[\"Year\"] = file[\"Year\"].apply(lambda text: text.split(\"-\")[1])\n",
    "    file.replace(to_replace = [\"T\", \"M\"], value=[0,np.nan], inplace = True)\n",
    "    for column in file.columns:\n",
    "        file[column] = pd.to_numeric(file[column])"
   ]
  },
  {
   "cell_type": "markdown",
   "metadata": {},
   "source": [
    "We want to look at the difference each December's average temperature is from the overall average tempature for a December in that area."
   ]
  },
  {
   "cell_type": "code",
   "execution_count": 11,
   "metadata": {},
   "outputs": [],
   "source": [
    "for file in temp_files:\n",
    "    file[\"Difference from Avg\"] = file[\"Dec\"] - file[\"Dec\"].mean()"
   ]
  },
  {
   "cell_type": "markdown",
   "metadata": {},
   "source": [
    "Some years had missing data, so if two or more months are missing, we'll simply drop the row."
   ]
  },
  {
   "cell_type": "code",
   "execution_count": 12,
   "metadata": {},
   "outputs": [],
   "source": [
    "boston_snow_data = boston_snow[boston_snow.columns[0:6]].dropna(thresh=2)\n",
    "hartford_snow_data = hartford_snow[hartford_snow.columns[0:6]].dropna(thresh=2)\n",
    "milton_snow_data = milton_snow[milton_snow.columns[0:6]].dropna(thresh=2)\n",
    "pvd_snow_data = pvd_snow[pvd_snow.columns[0:6]].dropna(thresh=2)\n",
    "worcester_snow_data = worcester_snow[worcester_snow.columns[0:6]].dropna(thresh=2)"
   ]
  },
  {
   "cell_type": "code",
   "execution_count": 13,
   "metadata": {},
   "outputs": [],
   "source": [
    "boston_snowdays_data = boston_snow_days[boston_snow_days.columns[0:6]].dropna(thresh=2)\n",
    "hartford_snowdays_data = hartford_snow_days[hartford_snow_days.columns[0:6]].dropna(thresh=2)\n",
    "milton_snowdays_data = milton_snow_days[milton_snow_days.columns[0:6]].dropna(thresh=2)\n",
    "pvd_snowdays_data = pvd_snow_days[pvd_snow_days.columns[0:6]].dropna(thresh=2)\n",
    "worcester_snowdays_data = worcester_snow_days[worcester_snow_days.columns[0:6]].dropna(thresh=2)"
   ]
  },
  {
   "cell_type": "markdown",
   "metadata": {},
   "source": [
    "We don't need all of the average monthly tempatures the tempature dataset comes with, so we'll condense this to just the Year and the Difference from Average columns."
   ]
  },
  {
   "cell_type": "code",
   "execution_count": 14,
   "metadata": {},
   "outputs": [],
   "source": [
    "boston_temp_data = boston_temp[[\"Year\", \"Difference from Avg\"]]\n",
    "hartford_temp_data = hartford_temp[[\"Year\", \"Difference from Avg\"]]\n",
    "milton_temp_data = milton_temp[[\"Year\", \"Difference from Avg\"]]\n",
    "pvd_temp_data = pvd_temp[[\"Year\", \"Difference from Avg\"]]\n",
    "worcester_temp_data = worcester_temp[[\"Year\", \"Difference from Avg\"]]"
   ]
  },
  {
   "cell_type": "markdown",
   "metadata": {},
   "source": [
    "To make sure the December from the previous year is corresponding with the following years January-May data, I added a year to the year column in the tempature data we are using. This means that the year 1986 in this dataframe corresponds to the December tempature from 1985. (There may have been a better way to do this.)"
   ]
  },
  {
   "cell_type": "code",
   "execution_count": 15,
   "metadata": {},
   "outputs": [
    {
     "name": "stderr",
     "output_type": "stream",
     "text": [
      "/home/scott/anaconda3/lib/python3.6/site-packages/ipykernel_launcher.py:3: SettingWithCopyWarning: \n",
      "A value is trying to be set on a copy of a slice from a DataFrame.\n",
      "Try using .loc[row_indexer,col_indexer] = value instead\n",
      "\n",
      "See the caveats in the documentation: http://pandas.pydata.org/pandas-docs/stable/indexing.html#indexing-view-versus-copy\n",
      "  This is separate from the ipykernel package so we can avoid doing imports until\n"
     ]
    }
   ],
   "source": [
    "temp_data = [boston_temp_data,hartford_temp_data, milton_temp_data, pvd_temp_data, worcester_temp_data]\n",
    "for file in temp_data:\n",
    "    file[\"Year\"] = file[\"Year\"]+1"
   ]
  },
  {
   "cell_type": "code",
   "execution_count": 16,
   "metadata": {},
   "outputs": [],
   "source": [
    "boston_SD = pd.merge(boston_snowdays_data, boston_temp_data, how='inner', on=\"Year\")\n",
    "hartford_SD = pd.merge(hartford_snowdays_data, hartford_temp_data, how='inner', on=\"Year\")\n",
    "milton_SD = pd.merge(milton_snowdays_data, milton_temp_data, how='inner', on=\"Year\")\n",
    "pvd_SD = pd.merge(pvd_snowdays_data, pvd_temp_data, how='inner', on=\"Year\")\n",
    "worcester_SD = pd.merge(worcester_snowdays_data, worcester_temp_data, how='inner', on=\"Year\")"
   ]
  },
  {
   "cell_type": "code",
   "execution_count": 17,
   "metadata": {},
   "outputs": [],
   "source": [
    "boston_data = pd.merge(boston_snow_data, boston_temp_data, how='inner', on=\"Year\")\n",
    "hartford_data = pd.merge(hartford_snow_data, hartford_temp_data, how='inner', on=\"Year\")\n",
    "milton_data = pd.merge(milton_snow_data, milton_temp_data, how='inner', on=\"Year\")\n",
    "pvd_data = pd.merge(pvd_snow_data, pvd_temp_data, how='inner', on=\"Year\")\n",
    "worcester_data = pd.merge(worcester_snow_data, worcester_temp_data, how='inner', on=\"Year\")"
   ]
  },
  {
   "cell_type": "code",
   "execution_count": 18,
   "metadata": {},
   "outputs": [],
   "source": [
    "data_files = [boston_data,hartford_data, milton_data, pvd_data, worcester_data]\n",
    "for file in data_files:\n",
    "    file[\"Total Snow\"] = file[file.columns[1:6]].sum(axis=1)\n",
    "    \n",
    "data_filesSD = [boston_SD,hartford_SD, milton_SD, pvd_SD, worcester_SD]\n",
    "for file in data_filesSD:\n",
    "    file[\"Total Snow Days\"] = file[file.columns[1:6]].sum(axis=1)"
   ]
  },
  {
   "cell_type": "code",
   "execution_count": 19,
   "metadata": {},
   "outputs": [],
   "source": [
    "def r2_correlation(x, y):\n",
    "    mask = ~np.isnan(x) & ~np.isnan(y)\n",
    "    slope, _, r_value, _, _ = stats.linregress(x[mask], y[mask])\n",
    "    return (r_value**2)"
   ]
  },
  {
   "cell_type": "markdown",
   "metadata": {},
   "source": [
    "I tried using matplotlib and seaborn, but couldn't quite get the result I wanted. This is the first time I've tried Bokeh. It wasn't quite as intuitive as matplotlib, but it can be customized to a further extent. "
   ]
  },
  {
   "cell_type": "code",
   "execution_count": 20,
   "metadata": {},
   "outputs": [],
   "source": [
    "def make_plot(mapper, title, tools, minX, maxX, minY, maxY):\n",
    "    mapper.low_color = 'blue'\n",
    "    mapper.high_color = 'red'\n",
    "    p = figure(plot_width=750, plot_height=500, x_range=(minX, maxX), y_range=(minY,maxY), \n",
    "               toolbar_location='right',toolbar_sticky=False, tools=tools, title=title)\n",
    "    color_bar = ColorBar(color_mapper=mapper, location=(0, 0))\n",
    "    p.circle(\n",
    "        x='x', y='y', size='z', fill_alpha=0.5,\n",
    "        fill_color={'field': 'y', 'transform': mapper}, line_color=None,\n",
    "        source=source\n",
    "    )\n",
    "    p.add_layout(color_bar, 'right')\n",
    "    return p"
   ]
  },
  {
   "cell_type": "code",
   "execution_count": 21,
   "metadata": {},
   "outputs": [],
   "source": [
    "cities = [\"Boston\", \"Hartford\", \"Milton\", \"Providence\", \"Worcester\"]\n",
    "snowfall_graphs = {'p0':None, 'p1':None,'p2':None,'p3':None,'p4':None} \n",
    "snowday_graphs = {'p5':None, 'p6':None,'p7':None,'p8':None,'p9':None} \n",
    "r2_values_snowfall = defaultdict(int)\n",
    "r2_values_snowdays = defaultdict(int)"
   ]
  },
  {
   "cell_type": "code",
   "execution_count": 22,
   "metadata": {},
   "outputs": [],
   "source": [
    "curdoc().clear()"
   ]
  },
  {
   "cell_type": "code",
   "execution_count": 23,
   "metadata": {},
   "outputs": [
    {
     "name": "stderr",
     "output_type": "stream",
     "text": [
      "/home/scott/anaconda3/lib/python3.6/site-packages/ipykernel_launcher.py:6: RuntimeWarning: divide by zero encountered in log10\n",
      "  \n"
     ]
    }
   ],
   "source": [
    "i = 0\n",
    "\n",
    "for file in data_files:\n",
    "    x = file[\"Total Snow\"]\n",
    "    y = file[\"Difference from Avg\"]\n",
    "    sizes = 12 * np.log10(file[\"Total Snow\"])\n",
    "    source = ColumnDataSource(dict(x=x,y=y,z=sizes))\n",
    "    hover = HoverTool(\n",
    "    tooltips=[\n",
    "        ( 'Total Snow',   '@x{00.00}\"'),\n",
    "        ( 'Difference from Avg',  '@y{00.00}\\N{DEGREE SIGN}')\n",
    "    ])\n",
    "    TOOLS = [hover, ResetTool(), ResizeTool(), WheelZoomTool()]\n",
    "    graph_title = cities[i]+' December Temp v. Snowfall'\n",
    "    current_graph = \"p\" + str(i)\n",
    "    p = make_plot(LinearColorMapper(palette=Plasma256, low=-15, high=15), title=graph_title, tools = TOOLS,minX=0,maxX=150,minY=-15,maxY=15)\n",
    "    p.title.align = \"center\"\n",
    "    p.title.text_font_size = \"12.5px\"\n",
    "    p.line(range(0,141), [0]*141, line_width=2, line_dash='dashed', line_color='black', line_alpha=0.5)\n",
    "    p.xaxis[0].axis_label = 'Snowfall Jan-May'\n",
    "    p.yaxis[0].axis_label = 'Difference from Avg Temp (F)'\n",
    "    snowfall_graphs[current_graph] = p\n",
    "    r2_values_snowfall[graph_title] = r2_correlation(x, y)\n",
    "    i += 1"
   ]
  },
  {
   "cell_type": "code",
   "execution_count": 24,
   "metadata": {},
   "outputs": [
    {
     "name": "stderr",
     "output_type": "stream",
     "text": [
      "/home/scott/anaconda3/lib/python3.6/site-packages/ipykernel_launcher.py:6: RuntimeWarning: divide by zero encountered in log10\n",
      "  \n"
     ]
    }
   ],
   "source": [
    "i = 5\n",
    "\n",
    "for file in data_filesSD:\n",
    "    x = file[\"Total Snow Days\"]\n",
    "    y = file[\"Difference from Avg\"]\n",
    "    sizes = 12 * np.log10(file[\"Total Snow Days\"])\n",
    "    source = ColumnDataSource(dict(x=x,y=y,z=sizes))\n",
    "    hover = HoverTool(\n",
    "    tooltips=[\n",
    "        ( 'Total Snow Days',   '@x{00.00}\"'),\n",
    "        ( 'Difference from Avg',  '@y{00.00}\\N{DEGREE SIGN}')\n",
    "    ])\n",
    "    TOOLS = [hover, ResetTool(), ResizeTool(), WheelZoomTool()]\n",
    "    graph_title = cities[i-5]+' December Temp v. Days of Snowfall'\n",
    "    current_graph = \"p\" + str(i)\n",
    "    p = make_plot(LinearColorMapper(palette=Plasma256, low=-15, high=15), title=graph_title, tools = TOOLS, minX=0, maxX=50, minY=-15, maxY=15)\n",
    "    p.title.align = \"center\"\n",
    "    p.title.text_font_size = \"12.5px\"\n",
    "    p.line(range(0,141), [0]*141, line_width=2, line_dash='dashed', line_color='black', line_alpha=0.5)\n",
    "    p.xaxis[0].axis_label = 'Snowdays Jan-May'\n",
    "    p.yaxis[0].axis_label = 'Difference from Avg Temp (F)'\n",
    "    snowday_graphs[current_graph] = p\n",
    "    r2_values_snowdays[graph_title] = r2_correlation(x, y)\n",
    "    i += 1"
   ]
  },
  {
   "cell_type": "markdown",
   "metadata": {},
   "source": [
    "I couldn't find any continuous color palettes that would represent tempature using a blue to red scale, the purple to yellow isn't ideal, but I think it works well enough. The circles at each data point are also sized using the amount of snow fall for that period. Bokeh's hover and scroll zoom tools are very useful in poking around the visualiztions. "
   ]
  },
  {
   "cell_type": "code",
   "execution_count": 25,
   "metadata": {},
   "outputs": [],
   "source": [
    "#show(gridplot([snowfall_graphs['p0'], snowfall_graphs['p1'], snowfall_graphs['p2'], snowfall_graphs['p3'], snowfall_graphs['p4']], ncols=2, plot_width=400, plot_height=300, toolbar_location=\"left\"))\n",
    "plots = gridplot([snowfall_graphs['p0'], snowfall_graphs['p1'], snowfall_graphs['p2'], snowfall_graphs['p3'], snowfall_graphs['p4']], ncols=2, plot_width=400, plot_height=300, toolbar_location=\"left\")"
   ]
  },
  {
   "cell_type": "code",
   "execution_count": 26,
   "metadata": {},
   "outputs": [
    {
     "data": {
      "text/plain": [
       "'/home/scott/ds/snowfall/html_charts/TempvsSnowFall.html'"
      ]
     },
     "execution_count": 26,
     "metadata": {},
     "output_type": "execute_result"
    }
   ],
   "source": [
    "save(plots, 'html_charts/TempvsSnowFall.html', CDN, 'December Temp vs Snowfall')"
   ]
  },
  {
   "cell_type": "code",
   "execution_count": 32,
   "metadata": {},
   "outputs": [
    {
     "data": {
      "text/html": [
       "\n",
       "        <iframe\n",
       "            width=\"900\"\n",
       "            height=\"900\"\n",
       "            src=\"html_charts/TempvsSnowFall.html\"\n",
       "            frameborder=\"0\"\n",
       "            allowfullscreen\n",
       "        ></iframe>\n",
       "        "
      ],
      "text/plain": [
       "<IPython.lib.display.IFrame at 0x7fd82fbc9f28>"
      ]
     },
     "execution_count": 32,
     "metadata": {},
     "output_type": "execute_result"
    }
   ],
   "source": [
    "from IPython.display import IFrame\n",
    "IFrame('html_charts/TempvsSnowFall.html', width=900, height=900)"
   ]
  },
  {
   "cell_type": "code",
   "execution_count": 33,
   "metadata": {},
   "outputs": [],
   "source": [
    "#show(gridplot([snowday_graphs['p5'], snowday_graphs['p6'], snowday_graphs['p7'], snowday_graphs['p8'], snowday_graphs['p9']], ncols=2, plot_width=400, plot_height=300, toolbar_location=\"left\"))\n",
    "plots2 = gridplot([snowday_graphs['p5'], snowday_graphs['p6'], snowday_graphs['p7'], snowday_graphs['p8'], snowday_graphs['p9']], ncols=2, plot_width=400, plot_height=300, toolbar_location=\"left\")"
   ]
  },
  {
   "cell_type": "code",
   "execution_count": 34,
   "metadata": {},
   "outputs": [
    {
     "data": {
      "text/plain": [
       "'/home/scott/ds/snowfall/html_charts/TempvsSnowDays.html'"
      ]
     },
     "execution_count": 34,
     "metadata": {},
     "output_type": "execute_result"
    }
   ],
   "source": [
    "save(plots2, 'html_charts/TempvsSnowDays.html', CDN, 'December Temp vs Days of Snowdays')"
   ]
  },
  {
   "cell_type": "code",
   "execution_count": 35,
   "metadata": {},
   "outputs": [
    {
     "data": {
      "text/html": [
       "\n",
       "        <iframe\n",
       "            width=\"900\"\n",
       "            height=\"900\"\n",
       "            src=\"html_charts/TempvsSnowDays.html\"\n",
       "            frameborder=\"0\"\n",
       "            allowfullscreen\n",
       "        ></iframe>\n",
       "        "
      ],
      "text/plain": [
       "<IPython.lib.display.IFrame at 0x7fd82d14f128>"
      ]
     },
     "execution_count": 35,
     "metadata": {},
     "output_type": "execute_result"
    }
   ],
   "source": [
    "from IPython.display import IFrame\n",
    "IFrame('html_charts/TempvsSnowDays.html', width=900, height=900)"
   ]
  },
  {
   "cell_type": "markdown",
   "metadata": {},
   "source": [
    "The charts above seem to show little correlation between December's tempature and the following months snowfall. Initially after not finding much in the total snowfall data, I looked at the days of snow in the season. This did not produce any findings either. The R^2 values are below and you can see that they are small and not of signifigance."
   ]
  },
  {
   "cell_type": "code",
   "execution_count": 36,
   "metadata": {},
   "outputs": [
    {
     "data": {
      "text/plain": [
       "defaultdict(int,\n",
       "            {'Boston December Temp v. Snowfall': 0.013958792077908446,\n",
       "             'Hartford December Temp v. Snowfall': 0.071711042452869883,\n",
       "             'Milton December Temp v. Snowfall': 0.0092174191061341337,\n",
       "             'Providence December Temp v. Snowfall': 0.03278116658761554,\n",
       "             'Worcester December Temp v. Snowfall': 0.0053879797261546999})"
      ]
     },
     "execution_count": 36,
     "metadata": {},
     "output_type": "execute_result"
    }
   ],
   "source": [
    "r2_values_snowfall"
   ]
  },
  {
   "cell_type": "code",
   "execution_count": 37,
   "metadata": {},
   "outputs": [
    {
     "data": {
      "text/plain": [
       "defaultdict(int,\n",
       "            {'Boston December Temp v. Days of Snowfall': 0.014225972419857496,\n",
       "             'Hartford December Temp v. Days of Snowfall': 0.068383620216129412,\n",
       "             'Milton December Temp v. Days of Snowfall': 0.0099339380592175387,\n",
       "             'Providence December Temp v. Days of Snowfall': 0.048451686786728759,\n",
       "             'Worcester December Temp v. Days of Snowfall': 0.01411728494082137})"
      ]
     },
     "execution_count": 37,
     "metadata": {},
     "output_type": "execute_result"
    }
   ],
   "source": [
    "r2_values_snowdays"
   ]
  },
  {
   "cell_type": "markdown",
   "metadata": {},
   "source": [
    "After not finding much in the way of my original question, I decided to look at some fun observational questions. The first being; how much does it normal snow before New Years?"
   ]
  },
  {
   "cell_type": "code",
   "execution_count": 38,
   "metadata": {},
   "outputs": [],
   "source": [
    "avgsnow_before_newyear = {}\n",
    "for i, file in enumerate(snow_files):\n",
    "    avgsnow_before_newyear[cities[i]] = file[[\"Sep\", \"Oct\", \"Nov\", \"Dec\"]].sum().sum()/file[[\"Sep\", \"Oct\", \"Nov\", \"Dec\"]].shape[0]"
   ]
  },
  {
   "cell_type": "code",
   "execution_count": 39,
   "metadata": {},
   "outputs": [
    {
     "data": {
      "text/plain": [
       "{'Boston': 8.880158730158731,\n",
       " 'Hartford': 10.665178571428571,\n",
       " 'Milton': 13.7,\n",
       " 'Providence': 7.480530973451325,\n",
       " 'Worcester': 13.457600000000005}"
      ]
     },
     "execution_count": 39,
     "metadata": {},
     "output_type": "execute_result"
    }
   ],
   "source": [
    "avgsnow_before_newyear"
   ]
  },
  {
   "cell_type": "markdown",
   "metadata": {},
   "source": [
    "Worcester and Milton lead the way, and that will end up being a trend through the rest of these results."
   ]
  },
  {
   "cell_type": "code",
   "execution_count": 40,
   "metadata": {},
   "outputs": [],
   "source": [
    "curdoc().clear()"
   ]
  },
  {
   "cell_type": "code",
   "execution_count": 41,
   "metadata": {},
   "outputs": [
    {
     "data": {
      "text/plain": [
       "'/home/scott/ds/snowfall/html_charts/SnowBeforeNY.html'"
      ]
     },
     "execution_count": 41,
     "metadata": {},
     "output_type": "execute_result"
    }
   ],
   "source": [
    "x = list(avgsnow_before_newyear.keys())\n",
    "y = list(avgsnow_before_newyear.values())\n",
    "p = figure(x_range=x, plot_height=350, y_range=(0,15), title=\"Average Snowfall before New Year\",\n",
    "           toolbar_location=None, tools=\"save\")\n",
    "c1 = random.choice(list(Category20c.keys()))\n",
    "c2 = random.choice(range(0,len(Category20c[c1])))\n",
    "p.vbar(x=x, top=y, width=0.75, color=Category20c[c1][c2])\n",
    "p.xgrid.grid_line_color = None\n",
    "p.xaxis[0].axis_label = 'City'\n",
    "p.yaxis[0].axis_label = 'Avg Snowfall (in)'\n",
    "save(p, 'html_charts/SnowBeforeNY.html', CDN, 'Average Snowfall Before New Year')"
   ]
  },
  {
   "cell_type": "code",
   "execution_count": 48,
   "metadata": {},
   "outputs": [
    {
     "data": {
      "text/html": [
       "\n",
       "        <iframe\n",
       "            width=\"650\"\n",
       "            height=\"400\"\n",
       "            src=\"html_charts/SnowBeforeNY.html\"\n",
       "            frameborder=\"0\"\n",
       "            allowfullscreen\n",
       "        ></iframe>\n",
       "        "
      ],
      "text/plain": [
       "<IPython.lib.display.IFrame at 0x7fd82fbffa20>"
      ]
     },
     "execution_count": 48,
     "metadata": {},
     "output_type": "execute_result"
    }
   ],
   "source": [
    "from IPython.display import IFrame\n",
    "IFrame('html_charts/SnowBeforeNY.html', width=650, height=400)"
   ]
  },
  {
   "cell_type": "markdown",
   "metadata": {},
   "source": [
    "Next, let's look at some the average and total snowfall for each month."
   ]
  },
  {
   "cell_type": "code",
   "execution_count": 49,
   "metadata": {},
   "outputs": [],
   "source": [
    "total_by_month_BOS = {}\n",
    "total_by_month_HAR = {}\n",
    "total_by_month_MIL = {}\n",
    "total_by_month_PVD = {}\n",
    "total_by_month_WOO = {}\n",
    "avg_by_month_BOS = {}\n",
    "avg_by_month_HAR = {}\n",
    "avg_by_month_MIL = {}\n",
    "avg_by_month_PVD = {}\n",
    "avg_by_month_WOO = {}"
   ]
  },
  {
   "cell_type": "code",
   "execution_count": 50,
   "metadata": {},
   "outputs": [],
   "source": [
    "monthly_snowfall_total = {\"Monthly Snow Totals (Boston)\":total_by_month_BOS, \"Monthly Snow Totals (Hartford)\":total_by_month_HAR, \n",
    "                          \"Monthly Snow Totals (Milton)\":total_by_month_MIL, \"Monthly Snow Totals (Providence)\": total_by_month_PVD, \n",
    "                          \"Monthly Snow Totals (Worcester)\": total_by_month_WOO}\n",
    "monthly_snowfall_avg = {\"Average Monthly Snowfall (Boston)\":avg_by_month_BOS, \"Average Monthly Snowfall (Hartford)\":avg_by_month_HAR,\n",
    "                       \"Average Monthly Snowfall (Milton)\":avg_by_month_MIL, \"Average Monthly Snowfall (Providence)\":avg_by_month_PVD,\n",
    "                       \"Average Monthly Snowfall (Worcester)\":avg_by_month_WOO}"
   ]
  },
  {
   "cell_type": "code",
   "execution_count": 51,
   "metadata": {},
   "outputs": [],
   "source": [
    "i=0\n",
    "for name in monthly_snowfall_total:\n",
    "    file =  snow_files[i]\n",
    "    for month in file.columns[1:]:\n",
    "        monthly_snowfall_total[name][month] = round(file[month].sum(),2)\n",
    "    i += 1"
   ]
  },
  {
   "cell_type": "code",
   "execution_count": 52,
   "metadata": {},
   "outputs": [],
   "source": [
    "i=0\n",
    "for name in monthly_snowfall_avg:\n",
    "    file =  snow_files[i]\n",
    "    for month in file.columns[1:]:\n",
    "        monthly_snowfall_avg[name][month] = round((file[month].sum()/len(file[month])),2)\n",
    "    i += 1"
   ]
  },
  {
   "cell_type": "code",
   "execution_count": 53,
   "metadata": {},
   "outputs": [],
   "source": [
    "total_snow_plots = {\"p10\":None, \"p11\":None, \"p12\":None, \"p13\":None, \"p14\":None}\n",
    "i = 10\n",
    "\n",
    "for data in monthly_snowfall_total:\n",
    "    x = list(monthly_snowfall_total[data].keys())\n",
    "    y = list(monthly_snowfall_total[data].values())\n",
    "    x = x[:5] + x[9:]\n",
    "    y = y[:5] + y[9:]\n",
    "    p = figure(x_range=x, plot_height=250, y_range=(0,2100), title=data,\n",
    "           toolbar_location=None, tools=\"save\")\n",
    "    c1 = random.choice(list(Category20c.keys()))\n",
    "    c2 = random.choice(range(0,len(Category20c[c1])))\n",
    "    p.vbar(x=x, top=y, width=0.75, color=Category20c[c1][c2])\n",
    "    p.xgrid.grid_line_color = None\n",
    "    p.xaxis[0].axis_label = 'Month'\n",
    "    p.yaxis[0].axis_label = 'Total Snow (in)'\n",
    "    total_snow_plots[\"p\"+str(i)] = p\n",
    "    i += 1"
   ]
  },
  {
   "cell_type": "code",
   "execution_count": 54,
   "metadata": {},
   "outputs": [
    {
     "data": {
      "text/plain": [
       "'/home/scott/ds/snowfall/html_charts/TotalSnowfall.html'"
      ]
     },
     "execution_count": 54,
     "metadata": {},
     "output_type": "execute_result"
    }
   ],
   "source": [
    "#show(gridplot([total_snow_plots['p10'], total_snow_plots['p11'], total_snow_plots['p12'], total_snow_plots['p13'], total_snow_plots['p14']], ncols=2, plot_width=400, plot_height=300, toolbar_location=\"left\"))\n",
    "plots3 = gridplot([total_snow_plots['p10'], total_snow_plots['p11'], total_snow_plots['p12'], total_snow_plots['p13'], total_snow_plots['p14']], ncols=2, plot_width=400, plot_height=300, toolbar_location=\"left\")\n",
    "save(plots3, 'html_charts/TotalSnowfall.html', CDN, 'Total Snowfall')"
   ]
  },
  {
   "cell_type": "code",
   "execution_count": 59,
   "metadata": {},
   "outputs": [
    {
     "data": {
      "text/html": [
       "\n",
       "        <iframe\n",
       "            width=\"900\"\n",
       "            height=\"900\"\n",
       "            src=\"html_charts/TotalSnowfall.html\"\n",
       "            frameborder=\"0\"\n",
       "            allowfullscreen\n",
       "        ></iframe>\n",
       "        "
      ],
      "text/plain": [
       "<IPython.lib.display.IFrame at 0x7fd82d14fba8>"
      ]
     },
     "execution_count": 59,
     "metadata": {},
     "output_type": "execute_result"
    }
   ],
   "source": [
    "from IPython.display import IFrame\n",
    "IFrame('html_charts/TotalSnowfall.html', width=900, height=900)"
   ]
  },
  {
   "cell_type": "code",
   "execution_count": 60,
   "metadata": {},
   "outputs": [],
   "source": [
    "avg_snow_plots = {\"p15\":None, \"p16\":None, \"17\":None, \"p18\":None, \"p19\":None}\n",
    "i = 15\n",
    "\n",
    "for data in monthly_snowfall_avg:\n",
    "    x = list(monthly_snowfall_avg[data].keys())\n",
    "    y = list(monthly_snowfall_avg[data].values())\n",
    "    x = x[:5] + x[9:]\n",
    "    y = y[:5] + y[9:]\n",
    "    p = figure(x_range=x, plot_height=250, y_range=(0,18), title=data,\n",
    "           toolbar_location=None, tools=\"save\")\n",
    "    c1 = random.choice(list(Category20c.keys()))\n",
    "    c2 = random.choice(range(0,len(Category20c[c1])))\n",
    "    p.vbar(x=x, top=y, width=0.75, color=Category20c[c1][c2])\n",
    "    p.xgrid.grid_line_color = None\n",
    "    p.xaxis[0].axis_label = 'Month'\n",
    "    p.yaxis[0].axis_label = 'Average Snow (in)'\n",
    "    avg_snow_plots[\"p\"+str(i)] = p\n",
    "    i += 1"
   ]
  },
  {
   "cell_type": "code",
   "execution_count": 61,
   "metadata": {},
   "outputs": [
    {
     "data": {
      "text/plain": [
       "'/home/scott/ds/snowfall/html_charts/AvgSnowfall.html'"
      ]
     },
     "execution_count": 61,
     "metadata": {},
     "output_type": "execute_result"
    }
   ],
   "source": [
    "#show(gridplot([avg_snow_plots['p15'], avg_snow_plots['p16'], avg_snow_plots['p17'], avg_snow_plots['p18'], avg_snow_plots['p19']], ncols=2, plot_width=400, plot_height=300, toolbar_location=\"left\"))\n",
    "plots4 = gridplot([avg_snow_plots['p15'], avg_snow_plots['p16'], avg_snow_plots['p17'], avg_snow_plots['p18'], avg_snow_plots['p19']], ncols=2, plot_width=400, plot_height=300, toolbar_location=\"left\")\n",
    "save(plots4, 'html_charts/AvgSnowfall.html', CDN, 'Average Snowfall')"
   ]
  },
  {
   "cell_type": "code",
   "execution_count": 62,
   "metadata": {},
   "outputs": [
    {
     "data": {
      "text/html": [
       "\n",
       "        <iframe\n",
       "            width=\"900\"\n",
       "            height=\"900\"\n",
       "            src=\"html_charts/AvgSnowfall.html\"\n",
       "            frameborder=\"0\"\n",
       "            allowfullscreen\n",
       "        ></iframe>\n",
       "        "
      ],
      "text/plain": [
       "<IPython.lib.display.IFrame at 0x7fd82d131b38>"
      ]
     },
     "execution_count": 62,
     "metadata": {},
     "output_type": "execute_result"
    }
   ],
   "source": [
    "from IPython.display import IFrame\n",
    "IFrame('html_charts/AvgSnowfall.html', width=900, height=900)"
   ]
  },
  {
   "cell_type": "markdown",
   "metadata": {},
   "source": [
    "In the charts it doesn't look like much, but both Milton and Worcester have a larger Octber snowfall total than one might expect looking at their neighbors. A large amount of this total is due to a storm from 2011. At the time city officials even recommended that Trick-or-Treating be done on the Thursday instead of Halloween, the Monday, to give crews a chance to clean up.\n",
    "\n",
    "May is also a little weird due to a storm in Worcester and Milton in 1977, it dropped 12.7 inches.\n",
    "\n",
    "The average amount of snowfall also feels lower than I would imagine, but I guess you tend to remember the terrible months and forget the mild ones."
   ]
  },
  {
   "cell_type": "markdown",
   "metadata": {},
   "source": [
    "Next I wanted to look at the top 20 snowiest months. Living in Providence and being from Rhode Island, I decided to concentrate on just that data. It wouldn't be too difficult to look at the other data sets, but I already feel like I should move on from this data. "
   ]
  },
  {
   "cell_type": "code",
   "execution_count": 63,
   "metadata": {},
   "outputs": [
    {
     "data": {
      "text/plain": [
       "Year    2016.0\n",
       "Jan       36.7\n",
       "Feb       31.8\n",
       "Mar       31.6\n",
       "Apr        9.6\n",
       "May        7.0\n",
       "Jun        0.0\n",
       "Jul        0.0\n",
       "Aug        0.0\n",
       "Sep        0.0\n",
       "Oct        2.3\n",
       "Nov       10.2\n",
       "Dec       26.7\n",
       "dtype: float64"
      ]
     },
     "execution_count": 63,
     "metadata": {},
     "output_type": "execute_result"
    }
   ],
   "source": [
    "month_year_snow = {}\n",
    "#create list of top 20, and if a value in spot is larger, replace [-1] index with it, resort list, and continue?\n",
    "pvd_snow.max()"
   ]
  },
  {
   "cell_type": "code",
   "execution_count": 64,
   "metadata": {},
   "outputs": [],
   "source": [
    "cols = list(pvd_snow.columns[:4]) + list(pvd_snow.columns[11:])\n",
    "max_snow_pvd_df = pvd_snow.loc[:, cols]\n",
    "max_snow_pvd_df.fillna(0, inplace=True)"
   ]
  },
  {
   "cell_type": "code",
   "execution_count": 65,
   "metadata": {},
   "outputs": [
    {
     "data": {
      "text/html": [
       "<div>\n",
       "<style>\n",
       "    .dataframe thead tr:only-child th {\n",
       "        text-align: right;\n",
       "    }\n",
       "\n",
       "    .dataframe thead th {\n",
       "        text-align: left;\n",
       "    }\n",
       "\n",
       "    .dataframe tbody tr th {\n",
       "        vertical-align: top;\n",
       "    }\n",
       "</style>\n",
       "<table border=\"1\" class=\"dataframe\">\n",
       "  <thead>\n",
       "    <tr style=\"text-align: right;\">\n",
       "      <th></th>\n",
       "      <th>0</th>\n",
       "      <th>1</th>\n",
       "      <th>2</th>\n",
       "      <th>3</th>\n",
       "      <th>4</th>\n",
       "      <th>5</th>\n",
       "      <th>6</th>\n",
       "      <th>7</th>\n",
       "      <th>8</th>\n",
       "      <th>9</th>\n",
       "      <th>...</th>\n",
       "      <th>103</th>\n",
       "      <th>104</th>\n",
       "      <th>105</th>\n",
       "      <th>106</th>\n",
       "      <th>107</th>\n",
       "      <th>108</th>\n",
       "      <th>109</th>\n",
       "      <th>110</th>\n",
       "      <th>111</th>\n",
       "      <th>112</th>\n",
       "    </tr>\n",
       "  </thead>\n",
       "  <tbody>\n",
       "    <tr>\n",
       "      <th>Year</th>\n",
       "      <td>1904.0</td>\n",
       "      <td>1905.0</td>\n",
       "      <td>1906.0</td>\n",
       "      <td>1907.0</td>\n",
       "      <td>1908.0</td>\n",
       "      <td>1909.0</td>\n",
       "      <td>1910.0</td>\n",
       "      <td>1911.0</td>\n",
       "      <td>1912.0</td>\n",
       "      <td>1913.0</td>\n",
       "      <td>...</td>\n",
       "      <td>2007.0</td>\n",
       "      <td>2008.0</td>\n",
       "      <td>2009.0</td>\n",
       "      <td>2010.0</td>\n",
       "      <td>2011.0</td>\n",
       "      <td>2012.0</td>\n",
       "      <td>2013.0</td>\n",
       "      <td>2014.0</td>\n",
       "      <td>2015.0</td>\n",
       "      <td>2016.0</td>\n",
       "    </tr>\n",
       "    <tr>\n",
       "      <th>Jan</th>\n",
       "      <td>0.0</td>\n",
       "      <td>13.6</td>\n",
       "      <td>8.4</td>\n",
       "      <td>15.3</td>\n",
       "      <td>7.4</td>\n",
       "      <td>10.4</td>\n",
       "      <td>15.7</td>\n",
       "      <td>0.4</td>\n",
       "      <td>22.9</td>\n",
       "      <td>1.6</td>\n",
       "      <td>...</td>\n",
       "      <td>1.2</td>\n",
       "      <td>2.7</td>\n",
       "      <td>14.9</td>\n",
       "      <td>4.3</td>\n",
       "      <td>30.7</td>\n",
       "      <td>10.7</td>\n",
       "      <td>6.5</td>\n",
       "      <td>15.0</td>\n",
       "      <td>25.6</td>\n",
       "      <td>7.3</td>\n",
       "    </tr>\n",
       "    <tr>\n",
       "      <th>Feb</th>\n",
       "      <td>0.0</td>\n",
       "      <td>6.1</td>\n",
       "      <td>3.8</td>\n",
       "      <td>26.2</td>\n",
       "      <td>9.8</td>\n",
       "      <td>3.2</td>\n",
       "      <td>10.6</td>\n",
       "      <td>14.0</td>\n",
       "      <td>0.6</td>\n",
       "      <td>5.0</td>\n",
       "      <td>...</td>\n",
       "      <td>7.3</td>\n",
       "      <td>6.2</td>\n",
       "      <td>3.9</td>\n",
       "      <td>4.9</td>\n",
       "      <td>8.5</td>\n",
       "      <td>4.6</td>\n",
       "      <td>24.3</td>\n",
       "      <td>20.0</td>\n",
       "      <td>31.8</td>\n",
       "      <td>11.5</td>\n",
       "    </tr>\n",
       "    <tr>\n",
       "      <th>Mar</th>\n",
       "      <td>0.0</td>\n",
       "      <td>1.2</td>\n",
       "      <td>16.9</td>\n",
       "      <td>9.4</td>\n",
       "      <td>6.0</td>\n",
       "      <td>3.5</td>\n",
       "      <td>0.5</td>\n",
       "      <td>4.6</td>\n",
       "      <td>9.5</td>\n",
       "      <td>0.2</td>\n",
       "      <td>...</td>\n",
       "      <td>5.8</td>\n",
       "      <td>1.2</td>\n",
       "      <td>11.6</td>\n",
       "      <td>0.6</td>\n",
       "      <td>3.7</td>\n",
       "      <td>0.2</td>\n",
       "      <td>4.9</td>\n",
       "      <td>1.2</td>\n",
       "      <td>16.3</td>\n",
       "      <td>2.6</td>\n",
       "    </tr>\n",
       "    <tr>\n",
       "      <th>Nov</th>\n",
       "      <td>2.5</td>\n",
       "      <td>0.0</td>\n",
       "      <td>1.9</td>\n",
       "      <td>0.0</td>\n",
       "      <td>0.0</td>\n",
       "      <td>0.0</td>\n",
       "      <td>0.8</td>\n",
       "      <td>0.0</td>\n",
       "      <td>2.2</td>\n",
       "      <td>0.4</td>\n",
       "      <td>...</td>\n",
       "      <td>0.0</td>\n",
       "      <td>0.0</td>\n",
       "      <td>0.0</td>\n",
       "      <td>0.1</td>\n",
       "      <td>0.0</td>\n",
       "      <td>1.3</td>\n",
       "      <td>0.1</td>\n",
       "      <td>1.6</td>\n",
       "      <td>0.0</td>\n",
       "      <td>0.0</td>\n",
       "    </tr>\n",
       "    <tr>\n",
       "      <th>Dec</th>\n",
       "      <td>17.4</td>\n",
       "      <td>3.6</td>\n",
       "      <td>9.0</td>\n",
       "      <td>10.9</td>\n",
       "      <td>2.1</td>\n",
       "      <td>10.3</td>\n",
       "      <td>8.5</td>\n",
       "      <td>3.2</td>\n",
       "      <td>7.0</td>\n",
       "      <td>0.2</td>\n",
       "      <td>...</td>\n",
       "      <td>14.4</td>\n",
       "      <td>20.6</td>\n",
       "      <td>21.7</td>\n",
       "      <td>10.2</td>\n",
       "      <td>0.0</td>\n",
       "      <td>9.3</td>\n",
       "      <td>7.0</td>\n",
       "      <td>0.9</td>\n",
       "      <td>0.6</td>\n",
       "      <td>4.4</td>\n",
       "    </tr>\n",
       "  </tbody>\n",
       "</table>\n",
       "<p>6 rows × 113 columns</p>\n",
       "</div>"
      ],
      "text/plain": [
       "         0       1       2       3       4       5       6       7       8    \\\n",
       "Year  1904.0  1905.0  1906.0  1907.0  1908.0  1909.0  1910.0  1911.0  1912.0   \n",
       "Jan      0.0    13.6     8.4    15.3     7.4    10.4    15.7     0.4    22.9   \n",
       "Feb      0.0     6.1     3.8    26.2     9.8     3.2    10.6    14.0     0.6   \n",
       "Mar      0.0     1.2    16.9     9.4     6.0     3.5     0.5     4.6     9.5   \n",
       "Nov      2.5     0.0     1.9     0.0     0.0     0.0     0.8     0.0     2.2   \n",
       "Dec     17.4     3.6     9.0    10.9     2.1    10.3     8.5     3.2     7.0   \n",
       "\n",
       "         9     ...       103     104     105     106     107     108     109  \\\n",
       "Year  1913.0   ...    2007.0  2008.0  2009.0  2010.0  2011.0  2012.0  2013.0   \n",
       "Jan      1.6   ...       1.2     2.7    14.9     4.3    30.7    10.7     6.5   \n",
       "Feb      5.0   ...       7.3     6.2     3.9     4.9     8.5     4.6    24.3   \n",
       "Mar      0.2   ...       5.8     1.2    11.6     0.6     3.7     0.2     4.9   \n",
       "Nov      0.4   ...       0.0     0.0     0.0     0.1     0.0     1.3     0.1   \n",
       "Dec      0.2   ...      14.4    20.6    21.7    10.2     0.0     9.3     7.0   \n",
       "\n",
       "         110     111     112  \n",
       "Year  2014.0  2015.0  2016.0  \n",
       "Jan     15.0    25.6     7.3  \n",
       "Feb     20.0    31.8    11.5  \n",
       "Mar      1.2    16.3     2.6  \n",
       "Nov      1.6     0.0     0.0  \n",
       "Dec      0.9     0.6     4.4  \n",
       "\n",
       "[6 rows x 113 columns]"
      ]
     },
     "execution_count": 65,
     "metadata": {},
     "output_type": "execute_result"
    }
   ],
   "source": [
    "max_snow_pvd_df.T"
   ]
  },
  {
   "cell_type": "code",
   "execution_count": 66,
   "metadata": {},
   "outputs": [],
   "source": [
    "max_snow_pvd_df.set_index('Year', inplace=True)"
   ]
  },
  {
   "cell_type": "code",
   "execution_count": 67,
   "metadata": {},
   "outputs": [],
   "source": [
    "master = pd.DataFrame(max_snow_pvd_df['Jan'].nlargest(20))\n",
    "master.columns = ['Snowfall']\n",
    "master['Month'] = 'Jan'"
   ]
  },
  {
   "cell_type": "code",
   "execution_count": 68,
   "metadata": {},
   "outputs": [
    {
     "data": {
      "text/html": [
       "<div>\n",
       "<style>\n",
       "    .dataframe thead tr:only-child th {\n",
       "        text-align: right;\n",
       "    }\n",
       "\n",
       "    .dataframe thead th {\n",
       "        text-align: left;\n",
       "    }\n",
       "\n",
       "    .dataframe tbody tr th {\n",
       "        vertical-align: top;\n",
       "    }\n",
       "</style>\n",
       "<table border=\"1\" class=\"dataframe\">\n",
       "  <thead>\n",
       "    <tr style=\"text-align: right;\">\n",
       "      <th></th>\n",
       "      <th>Snowfall</th>\n",
       "      <th>Month</th>\n",
       "    </tr>\n",
       "    <tr>\n",
       "      <th>Year</th>\n",
       "      <th></th>\n",
       "      <th></th>\n",
       "    </tr>\n",
       "  </thead>\n",
       "  <tbody>\n",
       "    <tr>\n",
       "      <th>2005</th>\n",
       "      <td>36.7</td>\n",
       "      <td>Jan</td>\n",
       "    </tr>\n",
       "    <tr>\n",
       "      <th>1948</th>\n",
       "      <td>31.7</td>\n",
       "      <td>Jan</td>\n",
       "    </tr>\n",
       "    <tr>\n",
       "      <th>2011</th>\n",
       "      <td>30.7</td>\n",
       "      <td>Jan</td>\n",
       "    </tr>\n",
       "    <tr>\n",
       "      <th>1965</th>\n",
       "      <td>28.7</td>\n",
       "      <td>Jan</td>\n",
       "    </tr>\n",
       "    <tr>\n",
       "      <th>2015</th>\n",
       "      <td>25.6</td>\n",
       "      <td>Jan</td>\n",
       "    </tr>\n",
       "  </tbody>\n",
       "</table>\n",
       "</div>"
      ],
      "text/plain": [
       "      Snowfall Month\n",
       "Year                \n",
       "2005      36.7   Jan\n",
       "1948      31.7   Jan\n",
       "2011      30.7   Jan\n",
       "1965      28.7   Jan\n",
       "2015      25.6   Jan"
      ]
     },
     "execution_count": 68,
     "metadata": {},
     "output_type": "execute_result"
    }
   ],
   "source": [
    "master.head()"
   ]
  },
  {
   "cell_type": "code",
   "execution_count": 69,
   "metadata": {},
   "outputs": [],
   "source": [
    "for month in ['Feb', 'Mar', 'Nov', 'Dec']:\n",
    "    temp = pd.DataFrame(max_snow_pvd_df[month].nlargest(20))\n",
    "    temp.columns = ['Snowfall']\n",
    "    temp['Month'] = month\n",
    "    master = master.append(temp)"
   ]
  },
  {
   "cell_type": "code",
   "execution_count": 70,
   "metadata": {},
   "outputs": [],
   "source": [
    "snowiest_months = master.nlargest(20, 'Snowfall')"
   ]
  },
  {
   "cell_type": "code",
   "execution_count": 71,
   "metadata": {},
   "outputs": [
    {
     "data": {
      "text/html": [
       "<div>\n",
       "<style>\n",
       "    .dataframe thead tr:only-child th {\n",
       "        text-align: right;\n",
       "    }\n",
       "\n",
       "    .dataframe thead th {\n",
       "        text-align: left;\n",
       "    }\n",
       "\n",
       "    .dataframe tbody tr th {\n",
       "        vertical-align: top;\n",
       "    }\n",
       "</style>\n",
       "<table border=\"1\" class=\"dataframe\">\n",
       "  <thead>\n",
       "    <tr style=\"text-align: right;\">\n",
       "      <th></th>\n",
       "      <th>Snowfall</th>\n",
       "      <th>Month</th>\n",
       "    </tr>\n",
       "    <tr>\n",
       "      <th>Year</th>\n",
       "      <th></th>\n",
       "      <th></th>\n",
       "    </tr>\n",
       "  </thead>\n",
       "  <tbody>\n",
       "    <tr>\n",
       "      <th>2005</th>\n",
       "      <td>36.7</td>\n",
       "      <td>Jan</td>\n",
       "    </tr>\n",
       "    <tr>\n",
       "      <th>2015</th>\n",
       "      <td>31.8</td>\n",
       "      <td>Feb</td>\n",
       "    </tr>\n",
       "    <tr>\n",
       "      <th>1948</th>\n",
       "      <td>31.7</td>\n",
       "      <td>Jan</td>\n",
       "    </tr>\n",
       "    <tr>\n",
       "      <th>1956</th>\n",
       "      <td>31.6</td>\n",
       "      <td>Mar</td>\n",
       "    </tr>\n",
       "    <tr>\n",
       "      <th>1962</th>\n",
       "      <td>30.9</td>\n",
       "      <td>Feb</td>\n",
       "    </tr>\n",
       "    <tr>\n",
       "      <th>2011</th>\n",
       "      <td>30.7</td>\n",
       "      <td>Jan</td>\n",
       "    </tr>\n",
       "    <tr>\n",
       "      <th>1965</th>\n",
       "      <td>28.7</td>\n",
       "      <td>Jan</td>\n",
       "    </tr>\n",
       "    <tr>\n",
       "      <th>1978</th>\n",
       "      <td>28.6</td>\n",
       "      <td>Feb</td>\n",
       "    </tr>\n",
       "    <tr>\n",
       "      <th>1969</th>\n",
       "      <td>26.7</td>\n",
       "      <td>Feb</td>\n",
       "    </tr>\n",
       "    <tr>\n",
       "      <th>1945</th>\n",
       "      <td>26.7</td>\n",
       "      <td>Dec</td>\n",
       "    </tr>\n",
       "    <tr>\n",
       "      <th>1907</th>\n",
       "      <td>26.2</td>\n",
       "      <td>Feb</td>\n",
       "    </tr>\n",
       "    <tr>\n",
       "      <th>1994</th>\n",
       "      <td>25.8</td>\n",
       "      <td>Feb</td>\n",
       "    </tr>\n",
       "    <tr>\n",
       "      <th>2015</th>\n",
       "      <td>25.6</td>\n",
       "      <td>Jan</td>\n",
       "    </tr>\n",
       "    <tr>\n",
       "      <th>1923</th>\n",
       "      <td>25.4</td>\n",
       "      <td>Jan</td>\n",
       "    </tr>\n",
       "    <tr>\n",
       "      <th>1967</th>\n",
       "      <td>24.9</td>\n",
       "      <td>Mar</td>\n",
       "    </tr>\n",
       "    <tr>\n",
       "      <th>2003</th>\n",
       "      <td>24.7</td>\n",
       "      <td>Feb</td>\n",
       "    </tr>\n",
       "    <tr>\n",
       "      <th>1943</th>\n",
       "      <td>24.5</td>\n",
       "      <td>Jan</td>\n",
       "    </tr>\n",
       "    <tr>\n",
       "      <th>1935</th>\n",
       "      <td>24.4</td>\n",
       "      <td>Jan</td>\n",
       "    </tr>\n",
       "    <tr>\n",
       "      <th>2013</th>\n",
       "      <td>24.3</td>\n",
       "      <td>Feb</td>\n",
       "    </tr>\n",
       "    <tr>\n",
       "      <th>1945</th>\n",
       "      <td>23.9</td>\n",
       "      <td>Feb</td>\n",
       "    </tr>\n",
       "  </tbody>\n",
       "</table>\n",
       "</div>"
      ],
      "text/plain": [
       "      Snowfall Month\n",
       "Year                \n",
       "2005      36.7   Jan\n",
       "2015      31.8   Feb\n",
       "1948      31.7   Jan\n",
       "1956      31.6   Mar\n",
       "1962      30.9   Feb\n",
       "2011      30.7   Jan\n",
       "1965      28.7   Jan\n",
       "1978      28.6   Feb\n",
       "1969      26.7   Feb\n",
       "1945      26.7   Dec\n",
       "1907      26.2   Feb\n",
       "1994      25.8   Feb\n",
       "2015      25.6   Jan\n",
       "1923      25.4   Jan\n",
       "1967      24.9   Mar\n",
       "2003      24.7   Feb\n",
       "1943      24.5   Jan\n",
       "1935      24.4   Jan\n",
       "2013      24.3   Feb\n",
       "1945      23.9   Feb"
      ]
     },
     "execution_count": 71,
     "metadata": {},
     "output_type": "execute_result"
    }
   ],
   "source": [
    "snowiest_months"
   ]
  },
  {
   "cell_type": "code",
   "execution_count": 72,
   "metadata": {},
   "outputs": [
    {
     "data": {
      "text/plain": [
       "2015    2\n",
       "1945    2\n",
       "1907    1\n",
       "1956    1\n",
       "1994    1\n",
       "1962    1\n",
       "1965    1\n",
       "1967    1\n",
       "1969    1\n",
       "2005    1\n",
       "2013    1\n",
       "2003    1\n",
       "1943    1\n",
       "1935    1\n",
       "1978    1\n",
       "2011    1\n",
       "1948    1\n",
       "1923    1\n",
       "Name: Year, dtype: int64"
      ]
     },
     "execution_count": 72,
     "metadata": {},
     "output_type": "execute_result"
    }
   ],
   "source": [
    "snowiest_months.index.value_counts()"
   ]
  },
  {
   "cell_type": "code",
   "execution_count": 73,
   "metadata": {},
   "outputs": [
    {
     "data": {
      "text/plain": [
       "Feb    9\n",
       "Jan    8\n",
       "Mar    2\n",
       "Dec    1\n",
       "Name: Month, dtype: int64"
      ]
     },
     "execution_count": 73,
     "metadata": {},
     "output_type": "execute_result"
    }
   ],
   "source": [
    "snowiest_months.Month.value_counts()"
   ]
  },
  {
   "cell_type": "markdown",
   "metadata": {},
   "source": [
    "Two year appear in the dataframe twice, 1945's December and February and 2015's January and February. Feburary has 9 of the top 20 snowiest months with January right behind, together they make up 17 out of the 20 (85%) snowiest months."
   ]
  },
  {
   "cell_type": "markdown",
   "metadata": {},
   "source": [
    "I realized the easiest way to look at the average snowfall in a season would be to use the original csv files that run from July of one year to Jun of the next."
   ]
  },
  {
   "cell_type": "code",
   "execution_count": 74,
   "metadata": {},
   "outputs": [],
   "source": [
    "boston_seasonal_snow = pd.read_csv('snowfall/old_snowfall/boston_snowfall.csv', index_col = 0)\n",
    "hartford_seasonal_snow = pd.read_csv('snowfall/old_snowfall/hartford_snowfall.csv', index_col = 0)\n",
    "milton_seasonal_snow = pd.read_csv('snowfall/old_snowfall/milton_snowfall.csv', index_col = 0)\n",
    "pvd_seasonal_snow = pd.read_csv('snowfall/old_snowfall/pvd_snowfall.csv', index_col = 0)\n",
    "worcester_seasonal_snow = pd.read_csv('snowfall/old_snowfall/worcester_snowfall.csv', index_col = 0)"
   ]
  },
  {
   "cell_type": "code",
   "execution_count": 75,
   "metadata": {},
   "outputs": [],
   "source": [
    "old_snow_files = [boston_seasonal_snow,hartford_seasonal_snow, milton_seasonal_snow, pvd_seasonal_snow, worcester_seasonal_snow]"
   ]
  },
  {
   "cell_type": "code",
   "execution_count": 76,
   "metadata": {},
   "outputs": [
    {
     "data": {
      "text/html": [
       "<div>\n",
       "<style>\n",
       "    .dataframe thead tr:only-child th {\n",
       "        text-align: right;\n",
       "    }\n",
       "\n",
       "    .dataframe thead th {\n",
       "        text-align: left;\n",
       "    }\n",
       "\n",
       "    .dataframe tbody tr th {\n",
       "        vertical-align: top;\n",
       "    }\n",
       "</style>\n",
       "<table border=\"1\" class=\"dataframe\">\n",
       "  <thead>\n",
       "    <tr style=\"text-align: right;\">\n",
       "      <th></th>\n",
       "      <th>Jul</th>\n",
       "      <th>Aug</th>\n",
       "      <th>Sep</th>\n",
       "      <th>Oct</th>\n",
       "      <th>Nov</th>\n",
       "      <th>Dec</th>\n",
       "      <th>Jan</th>\n",
       "      <th>Feb</th>\n",
       "      <th>Mar</th>\n",
       "      <th>Apr</th>\n",
       "      <th>May</th>\n",
       "      <th>Jun</th>\n",
       "      <th>Season</th>\n",
       "    </tr>\n",
       "    <tr>\n",
       "      <th>Year</th>\n",
       "      <th></th>\n",
       "      <th></th>\n",
       "      <th></th>\n",
       "      <th></th>\n",
       "      <th></th>\n",
       "      <th></th>\n",
       "      <th></th>\n",
       "      <th></th>\n",
       "      <th></th>\n",
       "      <th></th>\n",
       "      <th></th>\n",
       "      <th></th>\n",
       "      <th></th>\n",
       "    </tr>\n",
       "  </thead>\n",
       "  <tbody>\n",
       "    <tr>\n",
       "      <th>1890-1891</th>\n",
       "      <td>M</td>\n",
       "      <td>M</td>\n",
       "      <td>M</td>\n",
       "      <td>M</td>\n",
       "      <td>M</td>\n",
       "      <td>M</td>\n",
       "      <td>14.8</td>\n",
       "      <td>11.8</td>\n",
       "      <td>16</td>\n",
       "      <td>0</td>\n",
       "      <td>0</td>\n",
       "      <td>0</td>\n",
       "      <td>M</td>\n",
       "    </tr>\n",
       "    <tr>\n",
       "      <th>1891-1892</th>\n",
       "      <td>0</td>\n",
       "      <td>0</td>\n",
       "      <td>0</td>\n",
       "      <td>T</td>\n",
       "      <td>0</td>\n",
       "      <td>T</td>\n",
       "      <td>12.5</td>\n",
       "      <td>14</td>\n",
       "      <td>20.3</td>\n",
       "      <td>0</td>\n",
       "      <td>0</td>\n",
       "      <td>0</td>\n",
       "      <td>46.8</td>\n",
       "    </tr>\n",
       "    <tr>\n",
       "      <th>1892-1893</th>\n",
       "      <td>0</td>\n",
       "      <td>0</td>\n",
       "      <td>0</td>\n",
       "      <td>0</td>\n",
       "      <td>1.2</td>\n",
       "      <td>2.5</td>\n",
       "      <td>14.6</td>\n",
       "      <td>35.3</td>\n",
       "      <td>4.5</td>\n",
       "      <td>7.9</td>\n",
       "      <td>0</td>\n",
       "      <td>0</td>\n",
       "      <td>66</td>\n",
       "    </tr>\n",
       "    <tr>\n",
       "      <th>1893-1894</th>\n",
       "      <td>0</td>\n",
       "      <td>0</td>\n",
       "      <td>0</td>\n",
       "      <td>0</td>\n",
       "      <td>0.4</td>\n",
       "      <td>18.5</td>\n",
       "      <td>15</td>\n",
       "      <td>21.6</td>\n",
       "      <td>T</td>\n",
       "      <td>8.5</td>\n",
       "      <td>0</td>\n",
       "      <td>0</td>\n",
       "      <td>64</td>\n",
       "    </tr>\n",
       "    <tr>\n",
       "      <th>1894-1895</th>\n",
       "      <td>0</td>\n",
       "      <td>0</td>\n",
       "      <td>0</td>\n",
       "      <td>0</td>\n",
       "      <td>6.4</td>\n",
       "      <td>13.5</td>\n",
       "      <td>13.9</td>\n",
       "      <td>8.8</td>\n",
       "      <td>3.8</td>\n",
       "      <td>0.5</td>\n",
       "      <td>0</td>\n",
       "      <td>0</td>\n",
       "      <td>46.9</td>\n",
       "    </tr>\n",
       "  </tbody>\n",
       "</table>\n",
       "</div>"
      ],
      "text/plain": [
       "          Jul Aug Sep Oct  Nov   Dec   Jan   Feb   Mar  Apr May Jun Season\n",
       "Year                                                                      \n",
       "1890-1891   M   M   M   M    M     M  14.8  11.8    16    0   0   0      M\n",
       "1891-1892   0   0   0   T    0     T  12.5    14  20.3    0   0   0   46.8\n",
       "1892-1893   0   0   0   0  1.2   2.5  14.6  35.3   4.5  7.9   0   0     66\n",
       "1893-1894   0   0   0   0  0.4  18.5    15  21.6     T  8.5   0   0     64\n",
       "1894-1895   0   0   0   0  6.4  13.5  13.9   8.8   3.8  0.5   0   0   46.9"
      ]
     },
     "execution_count": 76,
     "metadata": {},
     "output_type": "execute_result"
    }
   ],
   "source": [
    "boston_seasonal_snow.head()"
   ]
  },
  {
   "cell_type": "code",
   "execution_count": 77,
   "metadata": {},
   "outputs": [],
   "source": [
    "for file in old_snow_files:\n",
    "    file.replace(to_replace = [\"T\", \"M\"], value=[0,np.nan], inplace = True)\n",
    "    for column in file.columns:\n",
    "        file[column] = pd.to_numeric(file[column])"
   ]
  },
  {
   "cell_type": "code",
   "execution_count": 78,
   "metadata": {},
   "outputs": [],
   "source": [
    "avg_season_snowfall = {}\n",
    "i = 0\n",
    "for file in old_snow_files:\n",
    "    avg_season_snowfall[cities[i]] = file[\"Season\"].mean()\n",
    "    i += 1"
   ]
  },
  {
   "cell_type": "code",
   "execution_count": 79,
   "metadata": {},
   "outputs": [
    {
     "data": {
      "text/plain": [
       "'/home/scott/ds/snowfall/html_charts/SeasonalSnow.html'"
      ]
     },
     "execution_count": 79,
     "metadata": {},
     "output_type": "execute_result"
    }
   ],
   "source": [
    "x = list(avg_season_snowfall.keys())\n",
    "y = list(avg_season_snowfall.values())\n",
    "p = figure(x_range=x, plot_height=350, y_range=(0,70), title=\"Average Seasonal Snowfall\",\n",
    "           toolbar_location=None, tools=\"save\")\n",
    "c1 = random.choice(list(Category20c.keys()))\n",
    "c2 = random.choice(range(0,len(Category20c[c1])))\n",
    "p.vbar(x=x, top=y, width=0.75, color=Category20c[c1][c2])\n",
    "p.xgrid.grid_line_color = None\n",
    "p.xaxis[0].axis_label = 'City'\n",
    "p.yaxis[0].axis_label = 'Avg Snowfall (in)'\n",
    "save(p, 'html_charts/SeasonalSnow.html', CDN, 'Average Seasonal Snowfall')"
   ]
  },
  {
   "cell_type": "code",
   "execution_count": 81,
   "metadata": {},
   "outputs": [
    {
     "data": {
      "text/html": [
       "\n",
       "        <iframe\n",
       "            width=\"650\"\n",
       "            height=\"400\"\n",
       "            src=\"html_charts/SeasonalSnow.html\"\n",
       "            frameborder=\"0\"\n",
       "            allowfullscreen\n",
       "        ></iframe>\n",
       "        "
      ],
      "text/plain": [
       "<IPython.lib.display.IFrame at 0x7fd82d049908>"
      ]
     },
     "execution_count": 81,
     "metadata": {},
     "output_type": "execute_result"
    }
   ],
   "source": [
    "from IPython.display import IFrame\n",
    "IFrame('html_charts/SeasonalSnow.html', width=650, height=400)"
   ]
  },
  {
   "cell_type": "markdown",
   "metadata": {},
   "source": [
    "No surprise here as Milton and Worcester lead the way for the most snow on average. Below we can see the max snow in a season for Providence was 76.2 inches in the 2014-2015 season, this checks out when we look at our top 20 snowiest months for the city. The lowest total ever was the 1979-1980 season, which happens to come the season after the Blizzard of '78."
   ]
  },
  {
   "cell_type": "code",
   "execution_count": 82,
   "metadata": {},
   "outputs": [
    {
     "data": {
      "text/html": [
       "<div>\n",
       "<style>\n",
       "    .dataframe thead tr:only-child th {\n",
       "        text-align: right;\n",
       "    }\n",
       "\n",
       "    .dataframe thead th {\n",
       "        text-align: left;\n",
       "    }\n",
       "\n",
       "    .dataframe tbody tr th {\n",
       "        vertical-align: top;\n",
       "    }\n",
       "</style>\n",
       "<table border=\"1\" class=\"dataframe\">\n",
       "  <thead>\n",
       "    <tr style=\"text-align: right;\">\n",
       "      <th></th>\n",
       "      <th>Jul</th>\n",
       "      <th>Aug</th>\n",
       "      <th>Sep</th>\n",
       "      <th>Oct</th>\n",
       "      <th>Nov</th>\n",
       "      <th>Dec</th>\n",
       "      <th>Jan</th>\n",
       "      <th>Feb</th>\n",
       "      <th>Mar</th>\n",
       "      <th>Apr</th>\n",
       "      <th>May</th>\n",
       "      <th>Jun</th>\n",
       "      <th>Season</th>\n",
       "    </tr>\n",
       "    <tr>\n",
       "      <th>Year</th>\n",
       "      <th></th>\n",
       "      <th></th>\n",
       "      <th></th>\n",
       "      <th></th>\n",
       "      <th></th>\n",
       "      <th></th>\n",
       "      <th></th>\n",
       "      <th></th>\n",
       "      <th></th>\n",
       "      <th></th>\n",
       "      <th></th>\n",
       "      <th></th>\n",
       "      <th></th>\n",
       "    </tr>\n",
       "  </thead>\n",
       "  <tbody>\n",
       "    <tr>\n",
       "      <th>2014-2015</th>\n",
       "      <td>0.0</td>\n",
       "      <td>0.0</td>\n",
       "      <td>0.0</td>\n",
       "      <td>0.0</td>\n",
       "      <td>1.6</td>\n",
       "      <td>0.9</td>\n",
       "      <td>25.6</td>\n",
       "      <td>31.8</td>\n",
       "      <td>16.3</td>\n",
       "      <td>0.0</td>\n",
       "      <td>0.0</td>\n",
       "      <td>0.0</td>\n",
       "      <td>76.2</td>\n",
       "    </tr>\n",
       "  </tbody>\n",
       "</table>\n",
       "</div>"
      ],
      "text/plain": [
       "           Jul  Aug  Sep  Oct  Nov  Dec   Jan   Feb   Mar  Apr  May  Jun  \\\n",
       "Year                                                                       \n",
       "2014-2015  0.0  0.0  0.0  0.0  1.6  0.9  25.6  31.8  16.3  0.0  0.0  0.0   \n",
       "\n",
       "           Season  \n",
       "Year               \n",
       "2014-2015    76.2  "
      ]
     },
     "execution_count": 82,
     "metadata": {},
     "output_type": "execute_result"
    }
   ],
   "source": [
    "pvd_seasonal_snow[pvd_seasonal_snow[\"Season\"] == pvd_seasonal_snow[\"Season\"].max()]"
   ]
  },
  {
   "cell_type": "code",
   "execution_count": 83,
   "metadata": {},
   "outputs": [
    {
     "data": {
      "text/html": [
       "<div>\n",
       "<style>\n",
       "    .dataframe thead tr:only-child th {\n",
       "        text-align: right;\n",
       "    }\n",
       "\n",
       "    .dataframe thead th {\n",
       "        text-align: left;\n",
       "    }\n",
       "\n",
       "    .dataframe tbody tr th {\n",
       "        vertical-align: top;\n",
       "    }\n",
       "</style>\n",
       "<table border=\"1\" class=\"dataframe\">\n",
       "  <thead>\n",
       "    <tr style=\"text-align: right;\">\n",
       "      <th></th>\n",
       "      <th>Jul</th>\n",
       "      <th>Aug</th>\n",
       "      <th>Sep</th>\n",
       "      <th>Oct</th>\n",
       "      <th>Nov</th>\n",
       "      <th>Dec</th>\n",
       "      <th>Jan</th>\n",
       "      <th>Feb</th>\n",
       "      <th>Mar</th>\n",
       "      <th>Apr</th>\n",
       "      <th>May</th>\n",
       "      <th>Jun</th>\n",
       "      <th>Season</th>\n",
       "    </tr>\n",
       "    <tr>\n",
       "      <th>Year</th>\n",
       "      <th></th>\n",
       "      <th></th>\n",
       "      <th></th>\n",
       "      <th></th>\n",
       "      <th></th>\n",
       "      <th></th>\n",
       "      <th></th>\n",
       "      <th></th>\n",
       "      <th></th>\n",
       "      <th></th>\n",
       "      <th></th>\n",
       "      <th></th>\n",
       "      <th></th>\n",
       "    </tr>\n",
       "  </thead>\n",
       "  <tbody>\n",
       "    <tr>\n",
       "      <th>1979-1980</th>\n",
       "      <td>0.0</td>\n",
       "      <td>0.0</td>\n",
       "      <td>0.0</td>\n",
       "      <td>0.0</td>\n",
       "      <td>0.0</td>\n",
       "      <td>0.0</td>\n",
       "      <td>0.6</td>\n",
       "      <td>3.8</td>\n",
       "      <td>5.3</td>\n",
       "      <td>0.0</td>\n",
       "      <td>0.0</td>\n",
       "      <td>0.0</td>\n",
       "      <td>9.7</td>\n",
       "    </tr>\n",
       "  </tbody>\n",
       "</table>\n",
       "</div>"
      ],
      "text/plain": [
       "           Jul  Aug  Sep  Oct  Nov  Dec  Jan  Feb  Mar  Apr  May  Jun  Season\n",
       "Year                                                                         \n",
       "1979-1980  0.0  0.0  0.0  0.0  0.0  0.0  0.6  3.8  5.3  0.0  0.0  0.0     9.7"
      ]
     },
     "execution_count": 83,
     "metadata": {},
     "output_type": "execute_result"
    }
   ],
   "source": [
    "pvd_seasonal_snow[pvd_seasonal_snow[\"Season\"] == pvd_seasonal_snow[\"Season\"].min()]"
   ]
  },
  {
   "cell_type": "code",
   "execution_count": null,
   "metadata": {},
   "outputs": [],
   "source": []
  }
 ],
 "metadata": {
  "kernelspec": {
   "display_name": "Python 3",
   "language": "python",
   "name": "python3"
  },
  "language_info": {
   "codemirror_mode": {
    "name": "ipython",
    "version": 3
   },
   "file_extension": ".py",
   "mimetype": "text/x-python",
   "name": "python",
   "nbconvert_exporter": "python",
   "pygments_lexer": "ipython3",
   "version": "3.6.1"
  }
 },
 "nbformat": 4,
 "nbformat_minor": 2
}
